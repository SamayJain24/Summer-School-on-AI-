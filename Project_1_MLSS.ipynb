{
  "nbformat": 4,
  "nbformat_minor": 0,
  "metadata": {
    "colab": {
      "provenance": [],
      "gpuType": "T4",
      "collapsed_sections": [
        "tVqOB7_khUXk",
        "X6RatwqDhiHy",
        "G_cIdz4whzAM",
        "1O26AgtNh8JW",
        "laSYKFzBiCC7"
      ],
      "authorship_tag": "ABX9TyPFxrawkFhc2k2CtxCdLqH3",
      "include_colab_link": true
    },
    "kernelspec": {
      "name": "python3",
      "display_name": "Python 3"
    },
    "language_info": {
      "name": "python"
    },
    "accelerator": "GPU"
  },
  "cells": [
    {
      "cell_type": "markdown",
      "metadata": {
        "id": "view-in-github",
        "colab_type": "text"
      },
      "source": [
        "<a href=\"https://colab.research.google.com/github/SamayJain24/Summer-School-on-AI-/blob/main/Project_1_MLSS.ipynb\" target=\"_parent\"><img src=\"https://colab.research.google.com/assets/colab-badge.svg\" alt=\"Open In Colab\"/></a>"
      ]
    },
    {
      "cell_type": "markdown",
      "source": [
        "\n",
        "\n",
        "\n",
        "# Lodaing Dataset\n",
        "\n",
        "\n"
      ],
      "metadata": {
        "id": "tVqOB7_khUXk"
      }
    },
    {
      "cell_type": "code",
      "execution_count": null,
      "metadata": {
        "colab": {
          "base_uri": "https://localhost:8080/"
        },
        "id": "WPQs71yyoDQ9",
        "outputId": "5b091713-5899-42de-8208-6354223616fc"
      },
      "outputs": [
        {
          "output_type": "stream",
          "name": "stdout",
          "text": [
            "Requirement already satisfied: torch in /usr/local/lib/python3.10/dist-packages (2.3.0+cu121)\n",
            "Requirement already satisfied: torchvision in /usr/local/lib/python3.10/dist-packages (0.18.0+cu121)\n",
            "Requirement already satisfied: filelock in /usr/local/lib/python3.10/dist-packages (from torch) (3.14.0)\n",
            "Requirement already satisfied: typing-extensions>=4.8.0 in /usr/local/lib/python3.10/dist-packages (from torch) (4.12.2)\n",
            "Requirement already satisfied: sympy in /usr/local/lib/python3.10/dist-packages (from torch) (1.12.1)\n",
            "Requirement already satisfied: networkx in /usr/local/lib/python3.10/dist-packages (from torch) (3.3)\n",
            "Requirement already satisfied: jinja2 in /usr/local/lib/python3.10/dist-packages (from torch) (3.1.4)\n",
            "Requirement already satisfied: fsspec in /usr/local/lib/python3.10/dist-packages (from torch) (2023.6.0)\n",
            "Collecting nvidia-cuda-nvrtc-cu12==12.1.105 (from torch)\n",
            "  Using cached nvidia_cuda_nvrtc_cu12-12.1.105-py3-none-manylinux1_x86_64.whl (23.7 MB)\n",
            "Collecting nvidia-cuda-runtime-cu12==12.1.105 (from torch)\n",
            "  Using cached nvidia_cuda_runtime_cu12-12.1.105-py3-none-manylinux1_x86_64.whl (823 kB)\n",
            "Collecting nvidia-cuda-cupti-cu12==12.1.105 (from torch)\n",
            "  Using cached nvidia_cuda_cupti_cu12-12.1.105-py3-none-manylinux1_x86_64.whl (14.1 MB)\n",
            "Collecting nvidia-cudnn-cu12==8.9.2.26 (from torch)\n",
            "  Using cached nvidia_cudnn_cu12-8.9.2.26-py3-none-manylinux1_x86_64.whl (731.7 MB)\n",
            "Collecting nvidia-cublas-cu12==12.1.3.1 (from torch)\n",
            "  Using cached nvidia_cublas_cu12-12.1.3.1-py3-none-manylinux1_x86_64.whl (410.6 MB)\n",
            "Collecting nvidia-cufft-cu12==11.0.2.54 (from torch)\n",
            "  Using cached nvidia_cufft_cu12-11.0.2.54-py3-none-manylinux1_x86_64.whl (121.6 MB)\n",
            "Collecting nvidia-curand-cu12==10.3.2.106 (from torch)\n",
            "  Using cached nvidia_curand_cu12-10.3.2.106-py3-none-manylinux1_x86_64.whl (56.5 MB)\n",
            "Collecting nvidia-cusolver-cu12==11.4.5.107 (from torch)\n",
            "  Using cached nvidia_cusolver_cu12-11.4.5.107-py3-none-manylinux1_x86_64.whl (124.2 MB)\n",
            "Collecting nvidia-cusparse-cu12==12.1.0.106 (from torch)\n",
            "  Using cached nvidia_cusparse_cu12-12.1.0.106-py3-none-manylinux1_x86_64.whl (196.0 MB)\n",
            "Collecting nvidia-nccl-cu12==2.20.5 (from torch)\n",
            "  Using cached nvidia_nccl_cu12-2.20.5-py3-none-manylinux2014_x86_64.whl (176.2 MB)\n",
            "Collecting nvidia-nvtx-cu12==12.1.105 (from torch)\n",
            "  Using cached nvidia_nvtx_cu12-12.1.105-py3-none-manylinux1_x86_64.whl (99 kB)\n",
            "Requirement already satisfied: triton==2.3.0 in /usr/local/lib/python3.10/dist-packages (from torch) (2.3.0)\n",
            "Collecting nvidia-nvjitlink-cu12 (from nvidia-cusolver-cu12==11.4.5.107->torch)\n",
            "  Downloading nvidia_nvjitlink_cu12-12.5.40-py3-none-manylinux2014_x86_64.whl (21.3 MB)\n",
            "\u001b[2K     \u001b[90m━━━━━━━━━━━━━━━━━━━━━━━━━━━━━━━━━━━━━━━━\u001b[0m \u001b[32m21.3/21.3 MB\u001b[0m \u001b[31m41.4 MB/s\u001b[0m eta \u001b[36m0:00:00\u001b[0m\n",
            "\u001b[?25hRequirement already satisfied: numpy in /usr/local/lib/python3.10/dist-packages (from torchvision) (1.25.2)\n",
            "Requirement already satisfied: pillow!=8.3.*,>=5.3.0 in /usr/local/lib/python3.10/dist-packages (from torchvision) (9.4.0)\n",
            "Requirement already satisfied: MarkupSafe>=2.0 in /usr/local/lib/python3.10/dist-packages (from jinja2->torch) (2.1.5)\n",
            "Requirement already satisfied: mpmath<1.4.0,>=1.1.0 in /usr/local/lib/python3.10/dist-packages (from sympy->torch) (1.3.0)\n",
            "Installing collected packages: nvidia-nvtx-cu12, nvidia-nvjitlink-cu12, nvidia-nccl-cu12, nvidia-curand-cu12, nvidia-cufft-cu12, nvidia-cuda-runtime-cu12, nvidia-cuda-nvrtc-cu12, nvidia-cuda-cupti-cu12, nvidia-cublas-cu12, nvidia-cusparse-cu12, nvidia-cudnn-cu12, nvidia-cusolver-cu12\n",
            "Successfully installed nvidia-cublas-cu12-12.1.3.1 nvidia-cuda-cupti-cu12-12.1.105 nvidia-cuda-nvrtc-cu12-12.1.105 nvidia-cuda-runtime-cu12-12.1.105 nvidia-cudnn-cu12-8.9.2.26 nvidia-cufft-cu12-11.0.2.54 nvidia-curand-cu12-10.3.2.106 nvidia-cusolver-cu12-11.4.5.107 nvidia-cusparse-cu12-12.1.0.106 nvidia-nccl-cu12-2.20.5 nvidia-nvjitlink-cu12-12.5.40 nvidia-nvtx-cu12-12.1.105\n"
          ]
        }
      ],
      "source": [
        "pip install torch torchvision\n"
      ]
    },
    {
      "cell_type": "code",
      "source": [
        "import torch\n",
        "from torchvision import datasets, transforms\n",
        "from torch.utils.data import DataLoader\n",
        "import matplotlib.pyplot as plt\n"
      ],
      "metadata": {
        "id": "e85GZ_0Xobrl"
      },
      "execution_count": null,
      "outputs": []
    },
    {
      "cell_type": "code",
      "source": [
        "#The MNIST images are grayscale and have dimensions 28x28.\n",
        "#We can apply transformations like converting them to tensors and normalizing the pixel values.\n",
        "transform = transforms.Compose([\n",
        "    transforms.ToTensor(),\n",
        "    transforms.Normalize((0.5,), (0.5,))\n",
        "])\n"
      ],
      "metadata": {
        "id": "RL_Wa9GXpeuS"
      },
      "execution_count": null,
      "outputs": []
    },
    {
      "cell_type": "code",
      "source": [
        "#We have used datasets.MNIST class to download and load the dataset.\n",
        "train_dataset = datasets.MNIST(root='./data', train=True, transform=transform, download=True)\n",
        "test_dataset = datasets.MNIST(root='./data', train=False, transform=transform, download=True)\n"
      ],
      "metadata": {
        "colab": {
          "base_uri": "https://localhost:8080/"
        },
        "id": "mPxe2xzTpsKr",
        "outputId": "419f9134-7193-46b4-b16f-32d0072eaf6f"
      },
      "execution_count": null,
      "outputs": [
        {
          "output_type": "stream",
          "name": "stdout",
          "text": [
            "Downloading http://yann.lecun.com/exdb/mnist/train-images-idx3-ubyte.gz\n",
            "Failed to download (trying next):\n",
            "HTTP Error 403: Forbidden\n",
            "\n",
            "Downloading https://ossci-datasets.s3.amazonaws.com/mnist/train-images-idx3-ubyte.gz\n",
            "Downloading https://ossci-datasets.s3.amazonaws.com/mnist/train-images-idx3-ubyte.gz to ./data/MNIST/raw/train-images-idx3-ubyte.gz\n"
          ]
        },
        {
          "output_type": "stream",
          "name": "stderr",
          "text": [
            "100%|██████████| 9912422/9912422 [00:02<00:00, 3307196.09it/s]\n"
          ]
        },
        {
          "output_type": "stream",
          "name": "stdout",
          "text": [
            "Extracting ./data/MNIST/raw/train-images-idx3-ubyte.gz to ./data/MNIST/raw\n",
            "\n",
            "Downloading http://yann.lecun.com/exdb/mnist/train-labels-idx1-ubyte.gz\n",
            "Failed to download (trying next):\n",
            "HTTP Error 403: Forbidden\n",
            "\n",
            "Downloading https://ossci-datasets.s3.amazonaws.com/mnist/train-labels-idx1-ubyte.gz\n",
            "Downloading https://ossci-datasets.s3.amazonaws.com/mnist/train-labels-idx1-ubyte.gz to ./data/MNIST/raw/train-labels-idx1-ubyte.gz\n"
          ]
        },
        {
          "output_type": "stream",
          "name": "stderr",
          "text": [
            "100%|██████████| 28881/28881 [00:00<00:00, 482233.84it/s]\n"
          ]
        },
        {
          "output_type": "stream",
          "name": "stdout",
          "text": [
            "Extracting ./data/MNIST/raw/train-labels-idx1-ubyte.gz to ./data/MNIST/raw\n",
            "\n",
            "Downloading http://yann.lecun.com/exdb/mnist/t10k-images-idx3-ubyte.gz\n",
            "Failed to download (trying next):\n",
            "HTTP Error 403: Forbidden\n",
            "\n",
            "Downloading https://ossci-datasets.s3.amazonaws.com/mnist/t10k-images-idx3-ubyte.gz\n",
            "Downloading https://ossci-datasets.s3.amazonaws.com/mnist/t10k-images-idx3-ubyte.gz to ./data/MNIST/raw/t10k-images-idx3-ubyte.gz\n"
          ]
        },
        {
          "output_type": "stream",
          "name": "stderr",
          "text": [
            "100%|██████████| 1648877/1648877 [00:01<00:00, 942333.28it/s] \n"
          ]
        },
        {
          "output_type": "stream",
          "name": "stdout",
          "text": [
            "Extracting ./data/MNIST/raw/t10k-images-idx3-ubyte.gz to ./data/MNIST/raw\n",
            "\n",
            "Downloading http://yann.lecun.com/exdb/mnist/t10k-labels-idx1-ubyte.gz\n",
            "Failed to download (trying next):\n",
            "HTTP Error 403: Forbidden\n",
            "\n",
            "Downloading https://ossci-datasets.s3.amazonaws.com/mnist/t10k-labels-idx1-ubyte.gz\n",
            "Downloading https://ossci-datasets.s3.amazonaws.com/mnist/t10k-labels-idx1-ubyte.gz to ./data/MNIST/raw/t10k-labels-idx1-ubyte.gz\n"
          ]
        },
        {
          "output_type": "stream",
          "name": "stderr",
          "text": [
            "100%|██████████| 4542/4542 [00:00<00:00, 2913370.36it/s]"
          ]
        },
        {
          "output_type": "stream",
          "name": "stdout",
          "text": [
            "Extracting ./data/MNIST/raw/t10k-labels-idx1-ubyte.gz to ./data/MNIST/raw\n",
            "\n"
          ]
        },
        {
          "output_type": "stream",
          "name": "stderr",
          "text": [
            "\n"
          ]
        }
      ]
    },
    {
      "cell_type": "code",
      "source": [
        "#DataLoaders help in batching the data, shuffling it, and loading it in parallel using multiprocessing workers.\n",
        "train_loader = DataLoader(dataset=train_dataset, batch_size=64, shuffle=True)\n",
        "test_loader = DataLoader(dataset=test_dataset, batch_size=64, shuffle=False)\n"
      ],
      "metadata": {
        "id": "y5fGOmiCp1xv"
      },
      "execution_count": null,
      "outputs": []
    },
    {
      "cell_type": "markdown",
      "source": [
        "# Visualising Dataset"
      ],
      "metadata": {
        "id": "X6RatwqDhiHy"
      }
    },
    {
      "cell_type": "code",
      "source": [
        "# Example: Iterate through the training data\n",
        "# sum = 0\n",
        "# for images, labels in train_loader:\n",
        "#     print(images.shape, labels.shape)\n",
        "#     sum +=1\n",
        "\n",
        "# print(sum)\n",
        "\n"
      ],
      "metadata": {
        "id": "APQAb6HUqH10"
      },
      "execution_count": null,
      "outputs": []
    },
    {
      "cell_type": "code",
      "source": [
        "def show_image(img, label):\n",
        "    img = img / 2 + 0.5  # unnormalize\n",
        "    npimg = img.numpy()\n",
        "    plt.imshow(npimg, cmap='gray')\n",
        "    plt.title(f'Label: {label}')\n",
        "    plt.show()\n",
        "\n",
        "# Iterate through the training data and visualize some samples\n",
        "data_iter = iter(train_loader)\n",
        "images, labels = next(data_iter)\n",
        "\n",
        "# Print shape information\n",
        "print(f'Batch size: {images.shape[0]}')\n",
        "print(f'Image shape: {images.shape[1:]}')\n",
        "print(f'Labels shape: {labels.shape}')\n",
        "\n",
        "# Visualize a few images\n",
        "for i in range(6):\n",
        "    show_image(images[i].squeeze(), labels[i].item())"
      ],
      "metadata": {
        "colab": {
          "base_uri": "https://localhost:8080/",
          "height": 1000
        },
        "id": "xrr10FFxqWJ8",
        "outputId": "ab2376be-7b8f-4332-9099-876d8e9e6306"
      },
      "execution_count": null,
      "outputs": [
        {
          "output_type": "stream",
          "name": "stdout",
          "text": [
            "Batch size: 64\n",
            "Image shape: torch.Size([1, 28, 28])\n",
            "Labels shape: torch.Size([64])\n"
          ]
        },
        {
          "output_type": "display_data",
          "data": {
            "text/plain": [
              "<Figure size 640x480 with 1 Axes>"
            ],
            "image/png": "[encoded data removed]"
          },
          "metadata": {}
        },
        {
          "output_type": "display_data",
          "data": {
            "text/plain": [
              "<Figure size 640x480 with 1 Axes>"
            ],
            "image/png": "[encoded data removed]"
          },
          "metadata": {}
        },
        {
          "output_type": "display_data",
          "data": {
            "text/plain": [
              "<Figure size 640x480 with 1 Axes>"
            ],
            "image/png": "[encoded data removed]"
          },
          "metadata": {}
        },
        {
          "output_type": "display_data",
          "data": {
            "text/plain": [
              "<Figure size 640x480 with 1 Axes>"
            ],
            "image/png": "[encoded data removed]"
          },
          "metadata": {}
        },
        {
          "output_type": "display_data",
          "data": {
            "text/plain": [
              "<Figure size 640x480 with 1 Axes>"
            ],
            "image/png": "[encoded data removed]"
          },
          "metadata": {}
        },
        {
          "output_type": "display_data",
          "data": {
            "text/plain": [
              "<Figure size 640x480 with 1 Axes>"
            ],
            "image/png": "[encoded data removed]"
          },
          "metadata": {}
        }
      ]
    },
    {
      "cell_type": "markdown",
      "source": [
        "#  Defining Model"
      ],
      "metadata": {
        "id": "G_cIdz4whzAM"
      }
    },
    {
      "cell_type": "code",
      "source": [
        "\n",
        "import torch.nn as nn\n",
        "import torch.nn.functional as F\n",
        "\n",
        "# Model 1 : Model with full Connected Layers only\n",
        "class FullyConnectedModel(nn.Module):\n",
        "    def __init__(self):\n",
        "        super(FullyConnectedModel, self).__init__()\n",
        "        self.fc1 = nn.Linear(28*28, 512)\n",
        "        self.fc2 = nn.Linear(512, 256)\n",
        "        self.fc3 = nn.Linear(256, 10)\n",
        "\n",
        "    def forward(self, x):\n",
        "        x = x.view(-1, 28*28)  # Flatten the input\n",
        "        x = F.relu(self.fc1(x))\n",
        "        x = F.relu(self.fc2(x))\n",
        "        x = self.fc3(x)\n",
        "        return x\n",
        "\n",
        "# Instantiate the model\n",
        "fc_model = FullyConnectedModel()\n",
        "print(fc_model)\n"
      ],
      "metadata": {
        "colab": {
          "base_uri": "https://localhost:8080/"
        },
        "id": "bp4Co9I_ry6h",
        "outputId": "6c0cc374-3847-4ff7-cdd7-b37d53cbc085"
      },
      "execution_count": null,
      "outputs": [
        {
          "output_type": "stream",
          "name": "stdout",
          "text": [
            "FullyConnectedModel(\n",
            "  (fc1): Linear(in_features=784, out_features=512, bias=True)\n",
            "  (fc2): Linear(in_features=512, out_features=256, bias=True)\n",
            "  (fc3): Linear(in_features=256, out_features=10, bias=True)\n",
            ")\n"
          ]
        }
      ]
    },
    {
      "cell_type": "code",
      "source": [
        "# Model 2 : Model with Convolution followed by Fully Connected Layers .\n",
        "class ConvToFullyConnectedModel(nn.Module):\n",
        "    def __init__(self):\n",
        "        super(ConvToFullyConnectedModel, self).__init__()\n",
        "        self.conv1 = nn.Conv2d(1, 32, kernel_size=3, stride=1, padding=1)\n",
        "        self.conv2 = nn.Conv2d(32, 64, kernel_size=3, stride=1, padding=1)\n",
        "        self.pool = nn.MaxPool2d(kernel_size=2, stride=2, padding=0)\n",
        "        self.fc1 = nn.Linear(64 * 7 * 7, 128)\n",
        "        self.fc2 = nn.Linear(128, 10)\n",
        "\n",
        "    def forward(self, x):\n",
        "        x = self.pool(F.relu(self.conv1(x)))\n",
        "        x = self.pool(F.relu(self.conv2(x)))\n",
        "        x = x.view(-1, 64 * 7 * 7)  # Flatten the input\n",
        "        x = F.relu(self.fc1(x))\n",
        "        x = self.fc2(x)\n",
        "        return x\n",
        "\n",
        "# Instantiate the model\n",
        "conv_fc_model = ConvToFullyConnectedModel()\n",
        "print(conv_fc_model)\n"
      ],
      "metadata": {
        "colab": {
          "base_uri": "https://localhost:8080/"
        },
        "id": "AASpbDt3sU61",
        "outputId": "92fa9a09-6159-472a-c35a-5c9347159803"
      },
      "execution_count": null,
      "outputs": [
        {
          "output_type": "stream",
          "name": "stdout",
          "text": [
            "ConvToFullyConnectedModel(\n",
            "  (conv1): Conv2d(1, 32, kernel_size=(3, 3), stride=(1, 1), padding=(1, 1))\n",
            "  (conv2): Conv2d(32, 64, kernel_size=(3, 3), stride=(1, 1), padding=(1, 1))\n",
            "  (pool): MaxPool2d(kernel_size=2, stride=2, padding=0, dilation=1, ceil_mode=False)\n",
            "  (fc1): Linear(in_features=3136, out_features=128, bias=True)\n",
            "  (fc2): Linear(in_features=128, out_features=10, bias=True)\n",
            ")\n"
          ]
        }
      ]
    },
    {
      "cell_type": "code",
      "source": [
        "#Model 3 : Model with only Convolution Layers .\n",
        "class FullyConvModel(nn.Module):\n",
        "    def __init__(self):\n",
        "        super(FullyConvModel, self).__init__()\n",
        "        self.conv1 = nn.Conv2d(1, 32, kernel_size=3, stride=1, padding=1)\n",
        "        self.conv2 = nn.Conv2d(32, 64, kernel_size=3, stride=1, padding=1)\n",
        "        self.conv3 = nn.Conv2d(64, 128, kernel_size=3, stride=1, padding=1)\n",
        "        self.conv4 = nn.Conv2d(128, 10, kernel_size=1, stride=1, padding=0)\n",
        "        self.pool = nn.MaxPool2d(kernel_size=2, stride=2, padding=0)\n",
        "        self.global_avg_pool = nn.AdaptiveAvgPool2d((1, 1))\n",
        "\n",
        "    def forward(self, x):\n",
        "        x = self.pool(F.relu(self.conv1(x)))\n",
        "        x = self.pool(F.relu(self.conv2(x)))\n",
        "        x = self.pool(F.relu(self.conv3(x)))\n",
        "        x = self.global_avg_pool(self.conv4(x))\n",
        "        x = x.view(-1, 10)  # Flatten the input to (batch_size, 10)\n",
        "        return x\n",
        "\n",
        "# Instantiate the model\n",
        "fully_conv_model = FullyConvModel()\n",
        "print(fully_conv_model)\n"
      ],
      "metadata": {
        "colab": {
          "base_uri": "https://localhost:8080/"
        },
        "id": "jDclZ9b9svWm",
        "outputId": "ea29afce-d2a3-4a01-c787-9a00c3fa37c5"
      },
      "execution_count": null,
      "outputs": [
        {
          "output_type": "stream",
          "name": "stdout",
          "text": [
            "FullyConvModel(\n",
            "  (conv1): Conv2d(1, 32, kernel_size=(3, 3), stride=(1, 1), padding=(1, 1))\n",
            "  (conv2): Conv2d(32, 64, kernel_size=(3, 3), stride=(1, 1), padding=(1, 1))\n",
            "  (conv3): Conv2d(64, 128, kernel_size=(3, 3), stride=(1, 1), padding=(1, 1))\n",
            "  (conv4): Conv2d(128, 10, kernel_size=(1, 1), stride=(1, 1))\n",
            "  (pool): MaxPool2d(kernel_size=2, stride=2, padding=0, dilation=1, ceil_mode=False)\n",
            "  (global_avg_pool): AdaptiveAvgPool2d(output_size=(1, 1))\n",
            ")\n"
          ]
        }
      ]
    },
    {
      "cell_type": "code",
      "source": [
        "import torch.optim as optim\n",
        "\n",
        "def train(model, train_loader, criterion, optimizer, device):\n",
        "    model.train()\n",
        "    running_loss = 0.0\n",
        "    for images, labels in train_loader:\n",
        "        images, labels = images.to(device), labels.to(device)\n",
        "\n",
        "        optimizer.zero_grad()\n",
        "        outputs = model(images)\n",
        "        loss = criterion(outputs, labels)\n",
        "        loss.backward()\n",
        "        optimizer.step()\n",
        "\n",
        "        running_loss += loss.item()\n",
        "    return running_loss / len(train_loader)\n",
        "\n",
        "def evaluate(model, test_loader, criterion, device):\n",
        "    model.eval()\n",
        "    correct = 0\n",
        "    total = 0\n",
        "    running_loss = 0.0\n",
        "    with torch.no_grad():\n",
        "        for images, labels in test_loader:\n",
        "            images, labels = images.to(device), labels.to(device)\n",
        "\n",
        "            outputs = model(images)\n",
        "            loss = criterion(outputs, labels)\n",
        "            running_loss += loss.item()\n",
        "\n",
        "            _, predicted = torch.max(outputs.data, 1)\n",
        "            total += labels.size(0)\n",
        "            correct += (predicted == labels).sum().item()\n",
        "\n",
        "    accuracy = correct / total\n",
        "    return running_loss / len(test_loader), accuracy\n",
        "\n"
      ],
      "metadata": {
        "id": "wi9zXJuMs4qX"
      },
      "execution_count": null,
      "outputs": []
    },
    {
      "cell_type": "code",
      "source": [
        "# Training settings\n",
        "device = torch.device(\"cuda\" if torch.cuda.is_available() else \"cpu\")\n",
        "num_epochs = 10\n",
        "learning_rate = 0.001\n",
        "\n",
        "# Initialize models, criterion, and optimizer\n",
        "models = {\n",
        "    \"Fully Connected\": FullyConnectedModel().to(device),\n",
        "    \"Conv to FC\": ConvToFullyConnectedModel().to(device),\n",
        "    \"Fully Conv\": FullyConvModel().to(device)\n",
        "}\n",
        "\n",
        "criterion = nn.CrossEntropyLoss()\n",
        "optimizers = {\n",
        "    \"Fully Connected\": optim.Adam(models[\"Fully Connected\"].parameters(), lr=learning_rate),\n",
        "    \"Conv to FC\": optim.Adam(models[\"Conv to FC\"].parameters(), lr=learning_rate),\n",
        "    \"Fully Conv\": optim.Adam(models[\"Fully Conv\"].parameters(), lr=learning_rate)\n",
        "}\n",
        "\n"
      ],
      "metadata": {
        "id": "LO_ab_LztHcf"
      },
      "execution_count": null,
      "outputs": []
    },
    {
      "cell_type": "markdown",
      "source": [
        "# Training and Evaluating Model"
      ],
      "metadata": {
        "id": "1O26AgtNh8JW"
      }
    },
    {
      "cell_type": "code",
      "source": [
        "# Train and evaluate each model\n",
        "for model_name, model in models.items():\n",
        "    print(f\"Training {model_name} model...\")\n",
        "    optimizer = optimizers[model_name]\n",
        "    for epoch in range(num_epochs):\n",
        "        train_loss = 0.0\n",
        "        model.train()\n",
        "        correct = 0\n",
        "        total = 0\n",
        "        for images, labels in train_loader:\n",
        "            images, labels = images.to(device), labels.to(device)\n",
        "\n",
        "            optimizer.zero_grad()\n",
        "            outputs = model(images)\n",
        "            loss = criterion(outputs, labels)\n",
        "            loss.backward()\n",
        "            optimizer.step()\n",
        "\n",
        "            train_loss += loss.item()\n",
        "\n",
        "            _, predicted = torch.max(outputs.data, 1)\n",
        "            total += labels.size(0)\n",
        "            correct += (predicted == labels).sum().item()\n",
        "\n",
        "        train_accuracy = correct / total\n",
        "        print(f\"Epoch {epoch+1}/{num_epochs}, Train Loss: {train_loss / len(train_loader):.4f}, Train Accuracy: {train_accuracy:.4f}\")\n",
        "\n",
        "    # Evaluate on the test set\n",
        "    test_loss, test_accuracy = evaluate(model, test_loader, criterion, device)\n",
        "    print(f\"{model_name} model - Test Loss: {test_loss:.4f}, Test Accuracy: {test_accuracy:.4f}\")\n",
        "\n"
      ],
      "metadata": {
        "colab": {
          "base_uri": "https://localhost:8080/"
        },
        "id": "EqcBLf-QtLLN",
        "outputId": "29f4071f-5c94-4a50-b1db-9afd3ea3a84b"
      },
      "execution_count": null,
      "outputs": [
        {
          "output_type": "stream",
          "name": "stdout",
          "text": [
            "Training Fully Connected model...\n",
            "Epoch 1/10, Train Loss: 0.3012, Train Accuracy: 0.9065\n",
            "Epoch 2/10, Train Loss: 0.1373, Train Accuracy: 0.9577\n",
            "Epoch 3/10, Train Loss: 0.1057, Train Accuracy: 0.9670\n",
            "Epoch 4/10, Train Loss: 0.0838, Train Accuracy: 0.9737\n",
            "Epoch 5/10, Train Loss: 0.0709, Train Accuracy: 0.9772\n",
            "Epoch 6/10, Train Loss: 0.0595, Train Accuracy: 0.9810\n",
            "Epoch 7/10, Train Loss: 0.0558, Train Accuracy: 0.9818\n",
            "Epoch 8/10, Train Loss: 0.0497, Train Accuracy: 0.9842\n",
            "Epoch 9/10, Train Loss: 0.0436, Train Accuracy: 0.9861\n",
            "Epoch 10/10, Train Loss: 0.0398, Train Accuracy: 0.9871\n",
            "Fully Connected model - Test Loss: 0.0907, Test Accuracy: 0.9748\n",
            "Training Conv to FC model...\n",
            "Epoch 1/10, Train Loss: 0.1641, Train Accuracy: 0.9500\n",
            "Epoch 2/10, Train Loss: 0.0458, Train Accuracy: 0.9858\n",
            "Epoch 3/10, Train Loss: 0.0309, Train Accuracy: 0.9901\n",
            "Epoch 4/10, Train Loss: 0.0235, Train Accuracy: 0.9924\n",
            "Epoch 5/10, Train Loss: 0.0171, Train Accuracy: 0.9945\n",
            "Epoch 6/10, Train Loss: 0.0146, Train Accuracy: 0.9951\n",
            "Epoch 7/10, Train Loss: 0.0108, Train Accuracy: 0.9966\n",
            "Epoch 8/10, Train Loss: 0.0102, Train Accuracy: 0.9966\n",
            "Epoch 9/10, Train Loss: 0.0083, Train Accuracy: 0.9975\n",
            "Epoch 10/10, Train Loss: 0.0061, Train Accuracy: 0.9981\n",
            "Conv to FC model - Test Loss: 0.0300, Test Accuracy: 0.9927\n",
            "Training Fully Conv model...\n",
            "Epoch 1/10, Train Loss: 0.4209, Train Accuracy: 0.8684\n",
            "Epoch 2/10, Train Loss: 0.1028, Train Accuracy: 0.9691\n",
            "Epoch 3/10, Train Loss: 0.0704, Train Accuracy: 0.9788\n",
            "Epoch 4/10, Train Loss: 0.0547, Train Accuracy: 0.9828\n",
            "Epoch 5/10, Train Loss: 0.0441, Train Accuracy: 0.9863\n",
            "Epoch 6/10, Train Loss: 0.0371, Train Accuracy: 0.9886\n",
            "Epoch 7/10, Train Loss: 0.0308, Train Accuracy: 0.9902\n",
            "Epoch 8/10, Train Loss: 0.0270, Train Accuracy: 0.9916\n",
            "Epoch 9/10, Train Loss: 0.0246, Train Accuracy: 0.9921\n",
            "Epoch 10/10, Train Loss: 0.0203, Train Accuracy: 0.9936\n",
            "Fully Conv model - Test Loss: 0.0255, Test Accuracy: 0.9919\n"
          ]
        }
      ]
    },
    {
      "cell_type": "code",
      "source": [],
      "metadata": {
        "id": "GdUKQELv1Gcd"
      },
      "execution_count": null,
      "outputs": []
    },
    {
      "cell_type": "markdown",
      "source": [
        "\n",
        "\n",
        "\n",
        "# Model Summary"
      ],
      "metadata": {
        "id": "laSYKFzBiCC7"
      }
    },
    {
      "cell_type": "code",
      "source": [
        "pip install torchsummary\n"
      ],
      "metadata": {
        "colab": {
          "base_uri": "https://localhost:8080/"
        },
        "id": "Oo1ujmgGyM7w",
        "outputId": "62423995-6112-4339-e0e9-b64e70a21637"
      },
      "execution_count": null,
      "outputs": [
        {
          "output_type": "stream",
          "name": "stdout",
          "text": [
            "Requirement already satisfied: torchsummary in /usr/local/lib/python3.10/dist-packages (1.5.1)\n"
          ]
        }
      ]
    },
    {
      "cell_type": "code",
      "source": [
        "from torchsummary import summary\n",
        "\n",
        "device = torch.device(\"cuda\" if torch.cuda.is_available() else \"cpu\")\n",
        "print(device)\n",
        "\n",
        "# Move models to the same device as the input data\n",
        "fully_connected_model = FullyConnectedModel().to(device)\n",
        "conv_to_fc_model = ConvToFullyConnectedModel().to(device)\n",
        "fully_conv_model = FullyConvModel().to(device)\n",
        "\n",
        "# Visualize Fully Connected Model\n",
        "summary(fully_connected_model, (1, 28, 28))\n",
        "\n",
        "# Visualize Conv to FC Model\n",
        "summary(conv_to_fc_model, (1, 28, 28))\n",
        "\n",
        "# Visualize Fully Conv Model\n",
        "summary(fully_conv_model, (1, 28, 28))\n"
      ],
      "metadata": {
        "colab": {
          "base_uri": "https://localhost:8080/"
        },
        "id": "CxyEQ1GMtMG7",
        "outputId": "a8c8b7ff-8657-415b-a38b-7b60c676f334"
      },
      "execution_count": null,
      "outputs": [
        {
          "output_type": "stream",
          "name": "stdout",
          "text": [
            "cuda\n",
            "----------------------------------------------------------------\n",
            "        Layer (type)               Output Shape         Param #\n",
            "================================================================\n",
            "            Linear-1                  [-1, 512]         401,920\n",
            "            Linear-2                  [-1, 256]         131,328\n",
            "            Linear-3                   [-1, 10]           2,570\n",
            "================================================================\n",
            "Total params: 535,818\n",
            "Trainable params: 535,818\n",
            "Non-trainable params: 0\n",
            "----------------------------------------------------------------\n",
            "Input size (MB): 0.00\n",
            "Forward/backward pass size (MB): 0.01\n",
            "Params size (MB): 2.04\n",
            "Estimated Total Size (MB): 2.05\n",
            "----------------------------------------------------------------\n",
            "----------------------------------------------------------------\n",
            "        Layer (type)               Output Shape         Param #\n",
            "================================================================\n",
            "            Conv2d-1           [-1, 32, 28, 28]             320\n",
            "         MaxPool2d-2           [-1, 32, 14, 14]               0\n",
            "            Conv2d-3           [-1, 64, 14, 14]          18,496\n",
            "         MaxPool2d-4             [-1, 64, 7, 7]               0\n",
            "            Linear-5                  [-1, 128]         401,536\n",
            "            Linear-6                   [-1, 10]           1,290\n",
            "================================================================\n",
            "Total params: 421,642\n",
            "Trainable params: 421,642\n",
            "Non-trainable params: 0\n",
            "----------------------------------------------------------------\n",
            "Input size (MB): 0.00\n",
            "Forward/backward pass size (MB): 0.36\n",
            "Params size (MB): 1.61\n",
            "Estimated Total Size (MB): 1.97\n",
            "----------------------------------------------------------------\n",
            "----------------------------------------------------------------\n",
            "        Layer (type)               Output Shape         Param #\n",
            "================================================================\n",
            "            Conv2d-1           [-1, 32, 28, 28]             320\n",
            "         MaxPool2d-2           [-1, 32, 14, 14]               0\n",
            "            Conv2d-3           [-1, 64, 14, 14]          18,496\n",
            "         MaxPool2d-4             [-1, 64, 7, 7]               0\n",
            "            Conv2d-5            [-1, 128, 7, 7]          73,856\n",
            "         MaxPool2d-6            [-1, 128, 3, 3]               0\n",
            "            Conv2d-7             [-1, 10, 3, 3]           1,290\n",
            " AdaptiveAvgPool2d-8             [-1, 10, 1, 1]               0\n",
            "================================================================\n",
            "Total params: 93,962\n",
            "Trainable params: 93,962\n",
            "Non-trainable params: 0\n",
            "----------------------------------------------------------------\n",
            "Input size (MB): 0.00\n",
            "Forward/backward pass size (MB): 0.42\n",
            "Params size (MB): 0.36\n",
            "Estimated Total Size (MB): 0.78\n",
            "----------------------------------------------------------------\n"
          ]
        }
      ]
    },
    {
      "cell_type": "code",
      "source": [
        "# Save all models in the dictionary\n",
        "for model_name, model in models.items():\n",
        "    torch.save(model.state_dict(), f'{model_name}_model.pth')\n"
      ],
      "metadata": {
        "id": "iICtEPcD1SCU"
      },
      "execution_count": null,
      "outputs": []
    },
    {
      "cell_type": "markdown",
      "source": [
        "#Fine Tuning and K Fold Cross Validation"
      ],
      "metadata": {
        "id": "XkA7DrkRqwqi"
      }
    },
    {
      "cell_type": "code",
      "source": [
        "import torch\n",
        "import torch.nn as nn\n",
        "\n",
        "def load_model(model_class, path, device):\n",
        "    model = model_class()\n",
        "    model.load_state_dict(torch.load(path))\n",
        "    model.to(device)\n",
        "    return model\n"
      ],
      "metadata": {
        "id": "lR0DMMZ53iy9"
      },
      "execution_count": null,
      "outputs": []
    },
    {
      "cell_type": "code",
      "source": [
        "def fine_tune_model(model, train_loader, criterion, optimizer, num_epochs, device):\n",
        "    model.train()\n",
        "    for epoch in range(num_epochs):\n",
        "        running_loss = 0.0\n",
        "        for images, labels in train_loader:\n",
        "            images, labels = images.to(device), labels.to(device)\n",
        "            optimizer.zero_grad()\n",
        "            outputs = model(images)\n",
        "            loss = criterion(outputs, labels)\n",
        "            loss.backward()\n",
        "            optimizer.step()\n",
        "            running_loss += loss.item()\n",
        "        print(f'Epoch [{epoch+1}/{num_epochs}], Loss: {running_loss/len(train_loader)}')\n",
        "    return model\n"
      ],
      "metadata": {
        "id": "uq_ovx78bDMs"
      },
      "execution_count": null,
      "outputs": []
    },
    {
      "cell_type": "code",
      "source": [
        "from sklearn.model_selection import KFold\n",
        "from torch.utils.data import Subset\n",
        "\n",
        "def k_fold_cross_validation(model_class, dataset, k, criterion, optimizer_func, num_epochs, device):\n",
        "    kf = KFold(n_splits=k, shuffle=True)\n",
        "    fold_accuracies = []\n",
        "\n",
        "    for fold, (train_idx, val_idx) in enumerate(kf.split(dataset)):\n",
        "        print(f'Fold {fold+1}/{k}')\n",
        "\n",
        "        train_subset = Subset(dataset, train_idx)\n",
        "        val_subset = Subset(dataset, val_idx)\n",
        "\n",
        "        train_loader = torch.utils.data.DataLoader(train_subset, batch_size=32, shuffle=True)\n",
        "        val_loader = torch.utils.data.DataLoader(val_subset, batch_size=32, shuffle=False)\n",
        "\n",
        "        model = model_class().to(device)\n",
        "        optimizer = optimizer_func(model.parameters())\n",
        "\n",
        "        model = fine_tune_model(model, train_loader, criterion, optimizer, num_epochs, device)\n",
        "\n",
        "        val_accuracy = evaluate_model(model, val_loader, device)\n",
        "        fold_accuracies.append(val_accuracy)\n",
        "\n",
        "        print(f'Validation Accuracy for fold {fold+1}: {val_accuracy:.2f}%')\n",
        "\n",
        "    avg_accuracy = sum(fold_accuracies) / k\n",
        "    print(f'Average Validation Accuracy: {avg_accuracy:.2f}%')\n",
        "    return avg_accuracy\n",
        "\n",
        "def evaluate_model(model, val_loader, device):\n",
        "    model.eval()\n",
        "    correct = 0\n",
        "    total = 0\n",
        "    with torch.no_grad():\n",
        "        for inputs, labels in val_loader:\n",
        "            inputs, labels = inputs.to(device), labels.to(device)\n",
        "            outputs = model(inputs)\n",
        "            _, predicted = torch.max(outputs.data, 1)\n",
        "            total += labels.size(0)\n",
        "            correct += (predicted == labels).sum().item()\n",
        "    accuracy = 100 * correct / total\n",
        "    return accuracy\n"
      ],
      "metadata": {
        "id": "1exffsPSblHU"
      },
      "execution_count": null,
      "outputs": []
    },
    {
      "cell_type": "code",
      "source": [
        "model_paths = {\n",
        "    \"/content/Fully Connected_model.pth\": FullyConnectedModel,\n",
        "    \"/content/Conv to FC_model.pth\": ConvToFullyConnectedModel,\n",
        "    \"/content/Fully Conv_model.pth\": FullyConvModel\n",
        "}\n",
        "\n",
        "\n",
        "device = torch.device(\"cuda\" if torch.cuda.is_available() else \"cpu\")\n",
        "criterion = nn.CrossEntropyLoss()\n",
        "\n",
        "\n",
        "device = torch.device(\"cuda\" if torch.cuda.is_available() else \"cpu\")\n",
        "\n",
        "# Define optimizer function\n",
        "def optimizer_func(params):\n",
        "    return torch.optim.Adam(params, lr=0.001)\n",
        "\n",
        "# Apply K-Fold Cross-Validation\n",
        "for model_path, model_class in model_paths.items():\n",
        "    print(f'Loading and fine-tuning model from {model_path}')\n",
        "    model = load_model(model_class, model_path, device)\n",
        "    avg_accuracy = k_fold_cross_validation(model_class, train_dataset, 5, criterion, optimizer_func, num_epochs, device)\n",
        "    print(f'Average accuracy after K-fold CV: {avg_accuracy:.2f}%')\n"
      ],
      "metadata": {
        "colab": {
          "base_uri": "https://localhost:8080/"
        },
        "id": "3ae8NWkDbqnH",
        "outputId": "06a4c19d-08eb-41ed-df95-39ca495c98d8"
      },
      "execution_count": null,
      "outputs": [
        {
          "output_type": "stream",
          "name": "stdout",
          "text": [
            "Loading and fine-tuning model from /content/Fully Connected_model.pth\n",
            "Fold 1/5\n",
            "Epoch [1/5], Loss: 0.31030006007353467\n",
            "Epoch [2/5], Loss: 0.1506606142974148\n",
            "Epoch [3/5], Loss: 0.11375689183206608\n",
            "Epoch [4/5], Loss: 0.09269567628173779\n",
            "Epoch [5/5], Loss: 0.08329682471589574\n",
            "Validation Accuracy for fold 1: 97.28%\n",
            "Fold 2/5\n",
            "Epoch [1/5], Loss: 0.30894092238942783\n",
            "Epoch [2/5], Loss: 0.15105801494667928\n",
            "Epoch [3/5], Loss: 0.11367034746039038\n",
            "Epoch [4/5], Loss: 0.09454790818000523\n",
            "Epoch [5/5], Loss: 0.08160828557036197\n",
            "Validation Accuracy for fold 2: 96.26%\n",
            "Fold 3/5\n",
            "Epoch [1/5], Loss: 0.30763893184624613\n",
            "Epoch [2/5], Loss: 0.1516822452491615\n",
            "Epoch [3/5], Loss: 0.11228124544265058\n",
            "Epoch [4/5], Loss: 0.09546806018000158\n",
            "Epoch [5/5], Loss: 0.07667872048107287\n",
            "Validation Accuracy for fold 3: 97.06%\n",
            "Fold 4/5\n",
            "Epoch [1/5], Loss: 0.30970236468097817\n",
            "Epoch [2/5], Loss: 0.15157743795029818\n",
            "Epoch [3/5], Loss: 0.11678763825977997\n",
            "Epoch [4/5], Loss: 0.0955523043582992\n",
            "Epoch [5/5], Loss: 0.08066871832303392\n",
            "Validation Accuracy for fold 4: 96.42%\n",
            "Fold 5/5\n",
            "Epoch [1/5], Loss: 0.31408380485946935\n",
            "Epoch [2/5], Loss: 0.1507536598343868\n",
            "Epoch [3/5], Loss: 0.11761722091857034\n",
            "Epoch [4/5], Loss: 0.09741981253020154\n",
            "Epoch [5/5], Loss: 0.08341510353828198\n",
            "Validation Accuracy for fold 5: 96.67%\n",
            "Average Validation Accuracy: 96.74%\n",
            "Average accuracy after K-fold CV: 96.74%\n",
            "Loading and fine-tuning model from /content/Conv to FC_model.pth\n",
            "Fold 1/5\n",
            "Epoch [1/5], Loss: 0.14215174984155843\n",
            "Epoch [2/5], Loss: 0.04373947029559349\n",
            "Epoch [3/5], Loss: 0.02948393549263225\n",
            "Epoch [4/5], Loss: 0.021739941464197728\n",
            "Epoch [5/5], Loss: 0.01650330816123915\n",
            "Validation Accuracy for fold 1: 99.08%\n",
            "Fold 2/5\n",
            "Epoch [1/5], Loss: 0.1452247408964904\n",
            "Epoch [2/5], Loss: 0.0448169968050012\n",
            "Epoch [3/5], Loss: 0.029906941606168403\n",
            "Epoch [4/5], Loss: 0.020950037840079556\n",
            "Epoch [5/5], Loss: 0.01685201313040549\n",
            "Validation Accuracy for fold 2: 98.69%\n",
            "Fold 3/5\n",
            "Epoch [1/5], Loss: 0.14017555822781286\n",
            "Epoch [2/5], Loss: 0.044625671401096044\n",
            "Epoch [3/5], Loss: 0.030152976114753982\n",
            "Epoch [4/5], Loss: 0.020798497825058198\n",
            "Epoch [5/5], Loss: 0.015564113820687757\n",
            "Validation Accuracy for fold 3: 98.98%\n",
            "Fold 4/5\n",
            "Epoch [1/5], Loss: 0.1381029352324161\n",
            "Epoch [2/5], Loss: 0.04646748925448628\n",
            "Epoch [3/5], Loss: 0.03085129389645105\n",
            "Epoch [4/5], Loss: 0.023265395283988254\n",
            "Epoch [5/5], Loss: 0.0160439541510497\n",
            "Validation Accuracy for fold 4: 98.99%\n",
            "Fold 5/5\n",
            "Epoch [1/5], Loss: 0.15259911356466668\n",
            "Epoch [2/5], Loss: 0.0456119195628174\n",
            "Epoch [3/5], Loss: 0.03061714097736209\n",
            "Epoch [4/5], Loss: 0.022605120011789645\n",
            "Epoch [5/5], Loss: 0.01653908245019314\n",
            "Validation Accuracy for fold 5: 98.78%\n",
            "Average Validation Accuracy: 98.91%\n",
            "Average accuracy after K-fold CV: 98.91%\n",
            "Loading and fine-tuning model from /content/Fully Conv_model.pth\n",
            "Fold 1/5\n",
            "Epoch [1/5], Loss: 0.3313664741581306\n",
            "Epoch [2/5], Loss: 0.08475175929224739\n",
            "Epoch [3/5], Loss: 0.05826743667654227\n",
            "Epoch [4/5], Loss: 0.04400453007731509\n",
            "Epoch [5/5], Loss: 0.03427048560921685\n",
            "Validation Accuracy for fold 1: 98.52%\n",
            "Fold 2/5\n",
            "Epoch [1/5], Loss: 0.3285255520691474\n",
            "Epoch [2/5], Loss: 0.08097941298107617\n",
            "Epoch [3/5], Loss: 0.05659445256353744\n",
            "Epoch [4/5], Loss: 0.04204429781010064\n",
            "Epoch [5/5], Loss: 0.03533795756921366\n",
            "Validation Accuracy for fold 2: 98.53%\n",
            "Fold 3/5\n",
            "Epoch [1/5], Loss: 0.32836378474409383\n",
            "Epoch [2/5], Loss: 0.08075475344535274\n",
            "Epoch [3/5], Loss: 0.05595364137579842\n",
            "Epoch [4/5], Loss: 0.044056546648188186\n",
            "Epoch [5/5], Loss: 0.03508048192127414\n",
            "Validation Accuracy for fold 3: 98.47%\n",
            "Fold 4/5\n",
            "Epoch [1/5], Loss: 0.313473086400268\n",
            "Epoch [2/5], Loss: 0.08124550926623245\n",
            "Epoch [3/5], Loss: 0.05497153319333059\n",
            "Epoch [4/5], Loss: 0.041708546923357064\n",
            "Epoch [5/5], Loss: 0.03343421871372266\n",
            "Validation Accuracy for fold 4: 99.07%\n",
            "Fold 5/5\n",
            "Epoch [1/5], Loss: 0.3328703704345971\n",
            "Epoch [2/5], Loss: 0.08308224574460958\n",
            "Epoch [3/5], Loss: 0.0557843537532414\n",
            "Epoch [4/5], Loss: 0.04298130673754107\n",
            "Epoch [5/5], Loss: 0.03453848411794752\n",
            "Validation Accuracy for fold 5: 98.99%\n",
            "Average Validation Accuracy: 98.71%\n",
            "Average accuracy after K-fold CV: 98.71%\n"
          ]
        }
      ]
    },
    {
      "cell_type": "code",
      "source": [],
      "metadata": {
        "id": "nSDW5Phmel_W"
      },
      "execution_count": null,
      "outputs": []
    },
    {
      "cell_type": "markdown",
      "source": [
        "# DOG CAT CLASSIFICATION\n"
      ],
      "metadata": {
        "id": "afbZJW3Rq-sn"
      }
    },
    {
      "cell_type": "code",
      "source": [
        "!mkdir -p ~/.kaggle\n",
        "!cp kaggle.json ~/.kaggle/\n"
      ],
      "metadata": {
        "id": "LF_rRqRErIh9"
      },
      "execution_count": null,
      "outputs": []
    },
    {
      "cell_type": "code",
      "source": [
        "!kaggle datasets download -d salader/dogs-vs-cats"
      ],
      "metadata": {
        "colab": {
          "base_uri": "https://localhost:8080/"
        },
        "id": "J35NjTX2rX1g",
        "outputId": "7946d858-e9af-472a-844d-3390d5685c2b"
      },
      "execution_count": null,
      "outputs": [
        {
          "output_type": "stream",
          "name": "stdout",
          "text": [
            "Warning: Your Kaggle API key is readable by other users on this system! To fix this, you can run 'chmod 600 /root/.kaggle/kaggle.json'\n",
            "Dataset URL: https://www.kaggle.com/datasets/salader/dogs-vs-cats\n",
            "License(s): unknown\n",
            "Downloading dogs-vs-cats.zip to /content\n",
            " 99% 1.05G/1.06G [00:11<00:00, 181MB/s]\n",
            "100% 1.06G/1.06G [00:11<00:00, 95.6MB/s]\n"
          ]
        }
      ]
    },
    {
      "cell_type": "code",
      "source": [
        "#As the data is in zip format so to unzipping it\n",
        "import zipfile\n",
        "zip_ref = zipfile.ZipFile('/content/dogs-vs-cats.zip', 'r')\n",
        "zip_ref.extractall('/content')\n",
        "zip_ref.close()"
      ],
      "metadata": {
        "id": "m4M8XkuSrwBs"
      },
      "execution_count": null,
      "outputs": []
    },
    {
      "cell_type": "code",
      "source": [
        "import os\n",
        "import torch\n",
        "import torchvision.transforms as transforms\n",
        "import torchvision.datasets as datasets\n",
        "from torch.utils.data import DataLoader\n",
        "\n",
        "def load_data(train_dir, test_dir):\n",
        "    # Define transformations including resizing\n",
        "    transform = transforms.Compose([\n",
        "        transforms.Resize((28, 28)),  # Resize to 256x256 or change to (128, 128) if needed\n",
        "        transforms.Grayscale(),  # Convert to grayscale to match MNIST model input\n",
        "        transforms.ToTensor()\n",
        "    ])\n",
        "\n",
        "    # Load the training dataset\n",
        "    train_dataset = datasets.ImageFolder(root=train_dir, transform=transform)\n",
        "    train_loader = DataLoader(train_dataset, batch_size=32, shuffle=True)\n",
        "\n",
        "    # Load the test dataset\n",
        "    test_dataset = datasets.ImageFolder(root=test_dir, transform=transform)\n",
        "    test_loader = DataLoader(test_dataset, batch_size=32, shuffle=False)\n",
        "\n",
        "    # Verify the dataset classes\n",
        "    classes = train_dataset.classes\n",
        "    print(f'Classes: {classes}')\n",
        "\n",
        "    return train_loader, test_loader, classes\n",
        "\n",
        "# Example usage:\n",
        "train_folder = '/content/train'        # Provide the path to the train folder containing Dogs and Cats subfolders\n",
        "test_folder = '/content/test'    # Provide the path to the test folder containing Dogs and Cats subfolders\n",
        "\n",
        "train_loader, test_loader, classes = load_data(train_folder, test_folder)\n"
      ],
      "metadata": {
        "colab": {
          "base_uri": "https://localhost:8080/"
        },
        "id": "myQ01pEDr8q_",
        "outputId": "c01fc34d-93e2-4d25-9aa8-a47afddab9c1"
      },
      "execution_count": null,
      "outputs": [
        {
          "output_type": "stream",
          "name": "stdout",
          "text": [
            "Classes: ['cats', 'dogs']\n"
          ]
        }
      ]
    },
    {
      "cell_type": "code",
      "source": [
        "# Load the pre-trained model\n",
        "pretrained_model_path = \"/content/Conv to FC_model.pth\"\n",
        "pretrained_model = torch.load(pretrained_model_path)\n",
        "\n",
        "# Initialize the custom model\n",
        "custom_model = ConvToFullyConnectedModel()\n",
        "\n",
        "# Transfer weights from the pre-trained model to the custom model\n",
        "custom_model.conv1.weight.data = pretrained_model['conv1.weight']\n",
        "custom_model.conv1.bias.data = pretrained_model['conv1.bias']\n",
        "custom_model.conv2.weight.data = pretrained_model['conv2.weight']\n",
        "custom_model.conv2.bias.data = pretrained_model['conv2.bias']\n",
        "custom_model.fc1.weight.data = pretrained_model['fc1.weight']\n",
        "custom_model.fc1.bias.data = pretrained_model['fc1.bias']\n",
        "custom_model.fc2.weight.data = pretrained_model['fc2.weight']\n",
        "custom_model.fc2.bias.data = pretrained_model['fc2.bias']\n"
      ],
      "metadata": {
        "id": "9zGcdFKGtB_q"
      },
      "execution_count": null,
      "outputs": []
    },
    {
      "cell_type": "code",
      "source": [
        "import torch\n",
        "import torch.nn as nn\n",
        "import torch.optim as optim\n",
        "from torch.utils.data import DataLoader\n",
        "\n",
        "# Assuming you have already defined train_loader and test_loader\n",
        "\n",
        "# Define the loss function and optimizer\n",
        "criterion = nn.CrossEntropyLoss()\n",
        "optimizer = optim.Adam(custom_model.parameters(), lr=0.001)\n",
        "\n",
        "# Training loop\n",
        "num_epochs = 10\n",
        "for epoch in range(num_epochs):\n",
        "    custom_model.train()  # Set the model to training mode\n",
        "    running_loss = 0.0\n",
        "    correct = 0\n",
        "    total = 0\n",
        "    for inputs, labels in train_loader:\n",
        "        inputs, labels = inputs.to(device), labels.to(device)\n",
        "\n",
        "        # Zero the parameter gradients\n",
        "        optimizer.zero_grad()\n",
        "\n",
        "        # Forward pass\n",
        "        outputs = custom_model(inputs)\n",
        "\n",
        "        # Compute the loss\n",
        "        loss = criterion(outputs, labels)\n",
        "\n",
        "        # Backward pass and optimization\n",
        "        loss.backward()\n",
        "        optimizer.step()\n",
        "\n",
        "        running_loss += loss.item() * inputs.size(0)\n",
        "\n",
        "        # Calculate training accuracy\n",
        "        _, predicted = torch.max(outputs, 1)\n",
        "        total += labels.size(0)\n",
        "        correct += (predicted == labels).sum().item()\n",
        "\n",
        "    # Print average training loss and accuracy for the epoch\n",
        "    epoch_loss = running_loss / len(train_loader.dataset)\n",
        "    epoch_accuracy = correct / total\n",
        "    print(f\"Epoch {epoch+1}/{num_epochs}, Training Loss: {epoch_loss}, Training Accuracy: {epoch_accuracy}\")\n",
        "\n",
        "# Testing the model\n",
        "custom_model.eval()  # Set the model to evaluation mode\n",
        "correct = 0\n",
        "total = 0\n",
        "with torch.no_grad():\n",
        "    for inputs, labels in test_loader:\n",
        "        inputs, labels = inputs.to(device), labels.to(device)\n",
        "        outputs = custom_model(inputs)\n",
        "        _, predicted = torch.max(outputs.data, 1)\n",
        "        total += labels.size(0)\n",
        "        correct += (predicted == labels).sum().item()\n",
        "\n",
        "print(f\"Test Accuracy: {100 * correct / total}%\")\n"
      ],
      "metadata": {
        "colab": {
          "base_uri": "https://localhost:8080/"
        },
        "id": "bQh8DSextyG6",
        "outputId": "027dcca9-474a-452a-dacb-31336c4e9802"
      },
      "execution_count": null,
      "outputs": [
        {
          "output_type": "stream",
          "name": "stdout",
          "text": [
            "Epoch 1/10, Training Loss: 0.4217037736415863, Training Accuracy: 0.8046\n",
            "Epoch 2/10, Training Loss: 0.3744279900074005, Training Accuracy: 0.8337\n",
            "Epoch 3/10, Training Loss: 0.3244136684536934, Training Accuracy: 0.85725\n",
            "Epoch 4/10, Training Loss: 0.27388003512620923, Training Accuracy: 0.88415\n",
            "Epoch 5/10, Training Loss: 0.22610623705387115, Training Accuracy: 0.90535\n",
            "Epoch 6/10, Training Loss: 0.17771173756122588, Training Accuracy: 0.9292\n",
            "Epoch 7/10, Training Loss: 0.13819639618694782, Training Accuracy: 0.948\n",
            "Epoch 8/10, Training Loss: 0.10663660086989403, Training Accuracy: 0.9609\n",
            "Epoch 9/10, Training Loss: 0.08642974868565798, Training Accuracy: 0.9677\n",
            "Epoch 10/10, Training Loss: 0.06237221371605992, Training Accuracy: 0.97965\n",
            "Test Accuracy: 76.12%\n"
          ]
        }
      ]
    },
    {
      "cell_type": "code",
      "source": [],
      "metadata": {
        "id": "vYaijtasuTSq"
      },
      "execution_count": null,
      "outputs": []
    }
  ]
}